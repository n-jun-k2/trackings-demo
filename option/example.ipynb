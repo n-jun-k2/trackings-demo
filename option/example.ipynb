{
 "cells": [
  {
   "cell_type": "code",
   "execution_count": 18,
   "id": "83e9d672",
   "metadata": {},
   "outputs": [
    {
     "ename": "ModuleNotFoundError",
     "evalue": "No module named 'trackron.models'",
     "output_type": "error",
     "traceback": [
      "\u001b[0;31m---------------------------------------------------------------------------\u001b[0m",
      "\u001b[0;31mModuleNotFoundError\u001b[0m                       Traceback (most recent call last)",
      "Cell \u001b[0;32mIn[18], line 24\u001b[0m\n\u001b[1;32m     20\u001b[0m     Image\u001b[38;5;241m.\u001b[39mNEAREST \u001b[38;5;241m=\u001b[39m Image\u001b[38;5;241m.\u001b[39mNEAREST \n\u001b[1;32m     22\u001b[0m \u001b[38;5;28;01mimport\u001b[39;00m\u001b[38;5;250m \u001b[39m\u001b[38;5;21;01mtorch\u001b[39;00m\u001b[38;5;21;01m.\u001b[39;00m\u001b[38;5;21;01mfx\u001b[39;00m\n\u001b[0;32m---> 24\u001b[0m \u001b[38;5;28;01mfrom\u001b[39;00m\u001b[38;5;250m \u001b[39m\u001b[38;5;21;01mtrackron\u001b[39;00m\u001b[38;5;21;01m.\u001b[39;00m\u001b[38;5;21;01mmodels\u001b[39;00m\u001b[38;5;250m \u001b[39m\u001b[38;5;28;01mimport\u001b[39;00m build_model\n",
      "\u001b[0;31mModuleNotFoundError\u001b[0m: No module named 'trackron.models'"
     ]
    }
   ],
   "source": [
    "import numpy as np\n",
    "if not hasattr(np, \"float\"):\n",
    "    np.float = float\n",
    "if not hasattr(np, \"int\"):\n",
    "    np.int = int\n",
    "if not hasattr(np, \"bool\"):\n",
    "    np.bool = bool\n",
    "if not hasattr(np, \"object\"):\n",
    "    np.object = object\n",
    "if not hasattr(np, \"long\"):\n",
    "    np.long = int\n",
    "\n",
    "from PIL import Image\n",
    "\n",
    "if not hasattr(Image, \"LINEAR\"):\n",
    "    Image.LINEAR = Image.BILINEAR\n",
    "if not hasattr(Image, \"CUBIC\"):\n",
    "    Image.CUBIC = Image.BICUBIC\n",
    "if not hasattr(Image, \"NEAREST\"):\n",
    "    Image.NEAREST = Image.NEAREST \n",
    "\n",
    "import torch.fx\n",
    "\n",
    "from trackron.models import build_model"
   ]
  },
  {
   "cell_type": "code",
   "execution_count": null,
   "id": "178fe7c1",
   "metadata": {},
   "outputs": [],
   "source": [
    "from trackron.models.backbone import build_backbone"
   ]
  },
  {
   "cell_type": "code",
   "execution_count": null,
   "id": "2a364c04",
   "metadata": {},
   "outputs": [],
   "source": []
  }
 ],
 "metadata": {
  "kernelspec": {
   "display_name": "Python 3",
   "language": "python",
   "name": "python3"
  },
  "language_info": {
   "codemirror_mode": {
    "name": "ipython",
    "version": 3
   },
   "file_extension": ".py",
   "mimetype": "text/x-python",
   "name": "python",
   "nbconvert_exporter": "python",
   "pygments_lexer": "ipython3",
   "version": "3.9.10"
  }
 },
 "nbformat": 4,
 "nbformat_minor": 5
}
